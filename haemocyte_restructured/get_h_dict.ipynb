{
 "cells": [
  {
   "cell_type": "code",
   "execution_count": 5,
   "metadata": {},
   "outputs": [],
   "source": [
    "\"\"\"\n",
    "MPhys Project Semester 1\n",
    "Mila Jelic & Paul Vautravers\n",
    "\"\"\"\n",
    "\n",
    "import numpy as np\n",
    "import json\n",
    "import os"
   ]
  },
  {
   "cell_type": "code",
   "execution_count": 6,
   "metadata": {},
   "outputs": [],
   "source": [
    "def get_h_dict(filename, window, step_sizes, restriction):\n",
    "    \n",
    "    h_dict = {}\n",
    "    \n",
    "    for s in step_sizes:\n",
    "        h_single_step = np.loadtxt('h_data/'+filename+'_s{}/'.format(max(step_sizes))+'h_data_'+filename\n",
    "              +'_w{}_step{}_r{}'.format(window, s, restriction))\n",
    "        h_dict[\"{}\".format(s)] = h_single_step.tolist()\n",
    "        \n",
    "    return h_dict\n",
    "\n",
    "def save_h_dict(h_dict, filename, window, step_sizes, restriction):\n",
    "\n",
    "    path = 'h_dict_data/'\n",
    "    try:\n",
    "        with open(path+'h_dict_'+'w{}_s{}_r{}_'.format(window, max(step_sizes), restriction)+filename, 'w') as f:\n",
    "            f.write(json.dumps(h_dict))\n",
    "    except FileNotFoundError:\n",
    "        os.makedirs(path)\n",
    "        with open(path+'h_dict_'+'w{}_s{}_r{}_'.format(window, max(step_sizes), restriction)+filename, 'w') as f:\n",
    "            f.write(json.dumps(h_dict))\n",
    "\n",
    "def main(filenames, window, step_sizes, restriction):\n",
    "    \n",
    "    for f in filenames:\n",
    "        h_dict = get_h_dict(f, window, step_sizes, restriction)\n",
    "        save_h_dict(h_dict, f, window, step_sizes, restriction)"
   ]
  },
  {
   "cell_type": "code",
   "execution_count": 7,
   "metadata": {},
   "outputs": [],
   "source": [
    "filenames = np.array(['Control_frame001-200',\n",
    "                      'Control_frame200-400',\n",
    "                      'Control_frame400-600',\n",
    "                      'Control_frame600-800',\n",
    "                      'Control_frame800-1000',\n",
    "                      'Control_frame1000-1200',\n",
    "                      'LanB1_frame001-200',\n",
    "                      'LanB1_frame200-400',\n",
    "                      'LanB1_frame400-600',\n",
    "                      'LanB1_frame600-800',\n",
    "                      'LanB1_frame800-1000',\n",
    "                      'LanB1_frame1000-1200',\n",
    "                      'defLanB1_300817_frame200-400',\n",
    "                      'defLanB1_300817_frame400-600'])\n",
    "\n",
    "window = 20\n",
    "step_sizes = [1,2,3,4,5,6,7,8]\n",
    "restriction = 10000"
   ]
  },
  {
   "cell_type": "code",
   "execution_count": 8,
   "metadata": {},
   "outputs": [],
   "source": [
    "main(filenames[0:1], window, step_sizes, restriction)"
   ]
  }
 ],
 "metadata": {
  "kernelspec": {
   "display_name": "Python 3",
   "language": "python",
   "name": "python3"
  },
  "language_info": {
   "codemirror_mode": {
    "name": "ipython",
    "version": 3
   },
   "file_extension": ".py",
   "mimetype": "text/x-python",
   "name": "python",
   "nbconvert_exporter": "python",
   "pygments_lexer": "ipython3",
   "version": "3.7.7"
  }
 },
 "nbformat": 4,
 "nbformat_minor": 4
}
