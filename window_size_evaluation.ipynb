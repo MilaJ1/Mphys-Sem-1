{
 "cells": [
  {
   "cell_type": "code",
   "execution_count": 2,
   "metadata": {},
   "outputs": [],
   "source": [
    "import numpy as np\n",
    "import pandas as pd\n",
    "import tensorflow as tf\n",
    "import matplotlib.pyplot as plt\n",
    "import gen_fbm_nn_model as fbm_nn"
   ]
  },
  {
   "cell_type": "code",
   "execution_count": 3,
   "metadata": {},
   "outputs": [],
   "source": [
    "def load_nn_model(window_size,n_samples=10000,n_epochs=100):\n",
    "\n",
    "    try:\n",
    "        model = tf.keras.models.load_model(\"model3dense_n{}.h5\".format(window_size))\n",
    "    except OSError:\n",
    "        fbm_nn.__main__(n_samples,window_size,n_epochs)\n",
    "        model = tf.keras.models.load_model(\"model3dense_n{}.h5\".format(window_size))\n",
    "    return model\n",
    "\n",
    "def get_model_metrics(window_size,n_samples=10000,n_epochs=100):\n",
    "    \n",
    "    model = load_nn_model(window_size, n_samples, n_epochs)\n",
    "    \n",
    "    loss, mean_abs_error, mean_sqr_error = np.loadtxt('metrics_'+\"model3dense_n\"+str(window_size), comments='#')\n",
    "    \n",
    "    return loss, mean_abs_error, mean_sqr_error"
   ]
  },
  {
   "cell_type": "code",
   "execution_count": 4,
   "metadata": {
    "scrolled": true
   },
   "outputs": [
    {
     "name": "stdout",
     "output_type": "stream",
     "text": [
      "Window size:  12\n",
      "Window size:  13\n",
      "Window size:  14\n",
      "Window size:  15\n",
      "Window size:  16\n",
      "Window size:  17\n",
      "Window size:  18\n",
      "Window size:  19\n",
      "Window size:  20\n",
      "Window size:  21\n",
      "Window size:  22\n",
      "Window size:  23\n",
      "Window size:  24\n",
      "Window size:  25\n"
     ]
    }
   ],
   "source": [
    "window_sizes = [12,13,14,15,16,17,18,19,20,21,22,23,24,25]\n",
    "loss_values = []\n",
    "mean_abs_errors = []\n",
    "mean_sqr_errors = []\n",
    "\n",
    "for w in window_sizes:\n",
    "    print('Window size: ', w)\n",
    "    loss, mae, mse = get_model_metrics(w)\n",
    "    loss_values.append(loss)\n",
    "    mean_abs_errors.append(mae)\n",
    "    mean_sqr_errors.append(mse)"
   ]
  },
  {
   "cell_type": "code",
   "execution_count": 5,
   "metadata": {},
   "outputs": [
    {
     "data": {
      "text/plain": [
       "[<matplotlib.lines.Line2D at 0x222339de488>]"
      ]
     },
     "execution_count": 5,
     "metadata": {},
     "output_type": "execute_result"
    },
    {
     "data": {
      "image/png": "[encoded data removed]",
      "text/plain": [
       "<Figure size 432x288 with 1 Axes>"
      ]
     },
     "metadata": {
      "needs_background": "light"
     },
     "output_type": "display_data"
    }
   ],
   "source": [
    "plt.figure()\n",
    "plt.plot(window_sizes, mean_abs_errors)"
   ]
  },
  {
   "cell_type": "code",
   "execution_count": 6,
   "metadata": {},
   "outputs": [
    {
     "data": {
      "text/plain": [
       "[<matplotlib.lines.Line2D at 0x22237cd8708>]"
      ]
     },
     "execution_count": 6,
     "metadata": {},
     "output_type": "execute_result"
    },
    {
     "data": {
      "image/png": "[encoded data removed]",
      "text/plain": [
       "<Figure size 432x288 with 1 Axes>"
      ]
     },
     "metadata": {
      "needs_background": "light"
     },
     "output_type": "display_data"
    }
   ],
   "source": [
    "plt.figure()\n",
    "plt.plot(window_sizes, mean_sqr_errors)"
   ]
  },
  {
   "cell_type": "code",
   "execution_count": 12,
   "metadata": {},
   "outputs": [],
   "source": [
    "def filter_data(data_in, max_step_size, window, restriction):\n",
    "    \"\"\"\n",
    "    Only keeps data for tracks that are long enough for hurst exponent estimation at a given downsampling step size.\n",
    "    Args: \n",
    "        data_in: pandas dataframe, original data\n",
    "        max_step_size: int, maximum downsampling step size\n",
    "        window: int, size of rolling window for hurst component estimation\n",
    "        restriction: int, number of tracks to include\n",
    "    Returns:\n",
    "        filtered_data: pandas dataframe\n",
    "    \"\"\"\n",
    "    if window % 2 == 1:  # for odd window size\n",
    "        tracks_to_keep = data_in.TrackID.value_counts().loc[lambda x: (x//max_step_size) > (window)].reset_index()['index']\n",
    "    else:  # for even window size\n",
    "        tracks_to_keep = data_in.TrackID.value_counts().loc[lambda x: (x//max_step_size) > (window+1)].reset_index()['index']\n",
    "    \n",
    "    if restriction<len(tracks_to_keep):\n",
    "        filtered_data = data_in[data_in['TrackID'].isin(tracks_to_keep[:restriction])]\n",
    "    else:\n",
    "        filtered_data = data_in[data_in['TrackID'].isin(tracks_to_keep)]\n",
    "\n",
    "    return filtered_data\n",
    "\n",
    "def number_of_tracks(filenames, window, step_sizes=np.array([1,2,3,4,5,6,7,8,9,10]), pandas_df=True):\n",
    "    \"\"\"\n",
    "    \"\"\"\n",
    "    ntracks_dict = {}\n",
    "    \n",
    "    for i, file in enumerate(filenames):\n",
    "        data = pd.read_csv('haemocyte_tracking_data/'+file+'.csv')\n",
    "        ntracks = np.empty((len(step_sizes)+1))\n",
    "        ntracks[0] = len(np.unique(data['TrackID']))  # number of tracks in original data (independent of window, step size)\n",
    "        for j, s in enumerate(step_sizes):\n",
    "            filtered_data = filter_data(data, s, window, restriction=10000)\n",
    "            ntracks[j+1] = len(np.unique(filtered_data['TrackID']))  # number of tracks in filtered data\n",
    "        ntracks_dict[file] = ntracks.tolist()\n",
    "    \n",
    "    if not pandas_df:\n",
    "        return ntracks_dict\n",
    "    \n",
    "    else:\n",
    "        column_labels = np.array(['original'])\n",
    "        column_labels = np.append(column_labels, step_sizes.astype(str))\n",
    "        df = pd.DataFrame.from_dict(ntracks_dict, orient='index', columns=column_labels)\n",
    "        return df.apply(pd.to_numeric, downcast='integer')"
   ]
  },
  {
   "cell_type": "code",
   "execution_count": 14,
   "metadata": {},
   "outputs": [
    {
     "name": "stdout",
     "output_type": "stream",
     "text": [
      "For window  17\n"
     ]
    },
    {
     "data": {
      "text/html": [
       "<div>\n",
       "<style scoped>\n",
       "    .dataframe tbody tr th:only-of-type {\n",
       "        vertical-align: middle;\n",
       "    }\n",
       "\n",
       "    .dataframe tbody tr th {\n",
       "        vertical-align: top;\n",
       "    }\n",
       "\n",
       "    .dataframe thead th {\n",
       "        text-align: right;\n",
       "    }\n",
       "</style>\n",
       "<table border=\"1\" class=\"dataframe\">\n",
       "  <thead>\n",
       "    <tr style=\"text-align: right;\">\n",
       "      <th></th>\n",
       "      <th>original</th>\n",
       "      <th>1</th>\n",
       "      <th>2</th>\n",
       "      <th>3</th>\n",
       "      <th>4</th>\n",
       "      <th>5</th>\n",
       "      <th>6</th>\n",
       "      <th>7</th>\n",
       "      <th>8</th>\n",
       "      <th>9</th>\n",
       "      <th>10</th>\n",
       "    </tr>\n",
       "  </thead>\n",
       "  <tbody>\n",
       "    <tr>\n",
       "      <th>Control_frame001-200</th>\n",
       "      <td>1806</td>\n",
       "      <td>1535</td>\n",
       "      <td>766</td>\n",
       "      <td>434</td>\n",
       "      <td>247</td>\n",
       "      <td>149</td>\n",
       "      <td>100</td>\n",
       "      <td>66</td>\n",
       "      <td>43</td>\n",
       "      <td>29</td>\n",
       "      <td>21</td>\n",
       "    </tr>\n",
       "    <tr>\n",
       "      <th>Control_frame200-400</th>\n",
       "      <td>1468</td>\n",
       "      <td>1343</td>\n",
       "      <td>820</td>\n",
       "      <td>526</td>\n",
       "      <td>333</td>\n",
       "      <td>230</td>\n",
       "      <td>147</td>\n",
       "      <td>106</td>\n",
       "      <td>86</td>\n",
       "      <td>66</td>\n",
       "      <td>50</td>\n",
       "    </tr>\n",
       "    <tr>\n",
       "      <th>Control_frame400-600</th>\n",
       "      <td>2172</td>\n",
       "      <td>2053</td>\n",
       "      <td>1309</td>\n",
       "      <td>848</td>\n",
       "      <td>564</td>\n",
       "      <td>397</td>\n",
       "      <td>293</td>\n",
       "      <td>234</td>\n",
       "      <td>180</td>\n",
       "      <td>142</td>\n",
       "      <td>104</td>\n",
       "    </tr>\n",
       "    <tr>\n",
       "      <th>Control_frame600-800</th>\n",
       "      <td>2117</td>\n",
       "      <td>2030</td>\n",
       "      <td>1345</td>\n",
       "      <td>870</td>\n",
       "      <td>616</td>\n",
       "      <td>449</td>\n",
       "      <td>348</td>\n",
       "      <td>262</td>\n",
       "      <td>202</td>\n",
       "      <td>162</td>\n",
       "      <td>132</td>\n",
       "    </tr>\n",
       "    <tr>\n",
       "      <th>Control_frame800-1000</th>\n",
       "      <td>1725</td>\n",
       "      <td>1675</td>\n",
       "      <td>1221</td>\n",
       "      <td>827</td>\n",
       "      <td>603</td>\n",
       "      <td>468</td>\n",
       "      <td>343</td>\n",
       "      <td>286</td>\n",
       "      <td>225</td>\n",
       "      <td>182</td>\n",
       "      <td>143</td>\n",
       "    </tr>\n",
       "    <tr>\n",
       "      <th>Control_frame1000-1200</th>\n",
       "      <td>1624</td>\n",
       "      <td>1571</td>\n",
       "      <td>1218</td>\n",
       "      <td>825</td>\n",
       "      <td>597</td>\n",
       "      <td>442</td>\n",
       "      <td>333</td>\n",
       "      <td>262</td>\n",
       "      <td>222</td>\n",
       "      <td>184</td>\n",
       "      <td>157</td>\n",
       "    </tr>\n",
       "    <tr>\n",
       "      <th>LanB1_frame001-200</th>\n",
       "      <td>4793</td>\n",
       "      <td>1517</td>\n",
       "      <td>666</td>\n",
       "      <td>355</td>\n",
       "      <td>211</td>\n",
       "      <td>128</td>\n",
       "      <td>84</td>\n",
       "      <td>61</td>\n",
       "      <td>44</td>\n",
       "      <td>29</td>\n",
       "      <td>21</td>\n",
       "    </tr>\n",
       "    <tr>\n",
       "      <th>LanB1_frame200-400</th>\n",
       "      <td>7239</td>\n",
       "      <td>2038</td>\n",
       "      <td>995</td>\n",
       "      <td>553</td>\n",
       "      <td>351</td>\n",
       "      <td>243</td>\n",
       "      <td>175</td>\n",
       "      <td>129</td>\n",
       "      <td>97</td>\n",
       "      <td>67</td>\n",
       "      <td>49</td>\n",
       "    </tr>\n",
       "    <tr>\n",
       "      <th>LanB1_frame400-600</th>\n",
       "      <td>3091</td>\n",
       "      <td>1124</td>\n",
       "      <td>661</td>\n",
       "      <td>457</td>\n",
       "      <td>337</td>\n",
       "      <td>256</td>\n",
       "      <td>190</td>\n",
       "      <td>150</td>\n",
       "      <td>117</td>\n",
       "      <td>94</td>\n",
       "      <td>78</td>\n",
       "    </tr>\n",
       "    <tr>\n",
       "      <th>LanB1_frame600-800</th>\n",
       "      <td>5046</td>\n",
       "      <td>1734</td>\n",
       "      <td>1051</td>\n",
       "      <td>714</td>\n",
       "      <td>547</td>\n",
       "      <td>424</td>\n",
       "      <td>337</td>\n",
       "      <td>277</td>\n",
       "      <td>238</td>\n",
       "      <td>202</td>\n",
       "      <td>168</td>\n",
       "    </tr>\n",
       "    <tr>\n",
       "      <th>LanB1_frame800-1000</th>\n",
       "      <td>6418</td>\n",
       "      <td>2024</td>\n",
       "      <td>1162</td>\n",
       "      <td>803</td>\n",
       "      <td>603</td>\n",
       "      <td>461</td>\n",
       "      <td>369</td>\n",
       "      <td>313</td>\n",
       "      <td>255</td>\n",
       "      <td>212</td>\n",
       "      <td>173</td>\n",
       "    </tr>\n",
       "    <tr>\n",
       "      <th>LanB1_frame1000-1200</th>\n",
       "      <td>4527</td>\n",
       "      <td>1497</td>\n",
       "      <td>928</td>\n",
       "      <td>661</td>\n",
       "      <td>497</td>\n",
       "      <td>407</td>\n",
       "      <td>336</td>\n",
       "      <td>278</td>\n",
       "      <td>239</td>\n",
       "      <td>207</td>\n",
       "      <td>186</td>\n",
       "    </tr>\n",
       "    <tr>\n",
       "      <th>defLanB1_300817_frame200-400</th>\n",
       "      <td>2445</td>\n",
       "      <td>2125</td>\n",
       "      <td>1131</td>\n",
       "      <td>635</td>\n",
       "      <td>400</td>\n",
       "      <td>282</td>\n",
       "      <td>201</td>\n",
       "      <td>140</td>\n",
       "      <td>103</td>\n",
       "      <td>73</td>\n",
       "      <td>65</td>\n",
       "    </tr>\n",
       "    <tr>\n",
       "      <th>defLanB1_300817_frame400-600</th>\n",
       "      <td>2015</td>\n",
       "      <td>1875</td>\n",
       "      <td>1191</td>\n",
       "      <td>770</td>\n",
       "      <td>557</td>\n",
       "      <td>406</td>\n",
       "      <td>308</td>\n",
       "      <td>258</td>\n",
       "      <td>201</td>\n",
       "      <td>161</td>\n",
       "      <td>124</td>\n",
       "    </tr>\n",
       "  </tbody>\n",
       "</table>\n",
       "</div>"
      ],
      "text/plain": [
       "                              original     1     2    3    4    5    6    7  \\\n",
       "Control_frame001-200              1806  1535   766  434  247  149  100   66   \n",
       "Control_frame200-400              1468  1343   820  526  333  230  147  106   \n",
       "Control_frame400-600              2172  2053  1309  848  564  397  293  234   \n",
       "Control_frame600-800              2117  2030  1345  870  616  449  348  262   \n",
       "Control_frame800-1000             1725  1675  1221  827  603  468  343  286   \n",
       "Control_frame1000-1200            1624  1571  1218  825  597  442  333  262   \n",
       "LanB1_frame001-200                4793  1517   666  355  211  128   84   61   \n",
       "LanB1_frame200-400                7239  2038   995  553  351  243  175  129   \n",
       "LanB1_frame400-600                3091  1124   661  457  337  256  190  150   \n",
       "LanB1_frame600-800                5046  1734  1051  714  547  424  337  277   \n",
       "LanB1_frame800-1000               6418  2024  1162  803  603  461  369  313   \n",
       "LanB1_frame1000-1200              4527  1497   928  661  497  407  336  278   \n",
       "defLanB1_300817_frame200-400      2445  2125  1131  635  400  282  201  140   \n",
       "defLanB1_300817_frame400-600      2015  1875  1191  770  557  406  308  258   \n",
       "\n",
       "                                8    9   10  \n",
       "Control_frame001-200           43   29   21  \n",
       "Control_frame200-400           86   66   50  \n",
       "Control_frame400-600          180  142  104  \n",
       "Control_frame600-800          202  162  132  \n",
       "Control_frame800-1000         225  182  143  \n",
       "Control_frame1000-1200        222  184  157  \n",
       "LanB1_frame001-200             44   29   21  \n",
       "LanB1_frame200-400             97   67   49  \n",
       "LanB1_frame400-600            117   94   78  \n",
       "LanB1_frame600-800            238  202  168  \n",
       "LanB1_frame800-1000           255  212  173  \n",
       "LanB1_frame1000-1200          239  207  186  \n",
       "defLanB1_300817_frame200-400  103   73   65  \n",
       "defLanB1_300817_frame400-600  201  161  124  "
      ]
     },
     "execution_count": 14,
     "metadata": {},
     "output_type": "execute_result"
    }
   ],
   "source": [
    "filenames = np.array(['Control_frame001-200',\n",
    "                      'Control_frame200-400',\n",
    "                      'Control_frame400-600',\n",
    "                      'Control_frame600-800',\n",
    "                      'Control_frame800-1000',\n",
    "                      'Control_frame1000-1200',\n",
    "                      'LanB1_frame001-200',\n",
    "                      'LanB1_frame200-400',\n",
    "                      'LanB1_frame400-600',\n",
    "                      'LanB1_frame600-800',\n",
    "                      'LanB1_frame800-1000',\n",
    "                      'LanB1_frame1000-1200',\n",
    "                      'defLanB1_300817_frame200-400',\n",
    "                      'defLanB1_300817_frame400-600'])\n",
    "\n",
    "print('For window ', window_sizes[5])\n",
    "number_of_tracks(filenames, window_sizes[5])"
   ]
  },
  {
   "cell_type": "code",
   "execution_count": 15,
   "metadata": {},
   "outputs": [],
   "source": [
    "def ntracks_mean_over_files(dataframe, window, step_size):\n",
    "    # for one step size\n",
    "    ntracks_all_files = dataframe['{}'.format(step_size)]\n",
    "    return np.mean(ntracks_all_files)"
   ]
  },
  {
   "cell_type": "code",
   "execution_count": 17,
   "metadata": {},
   "outputs": [
    {
     "name": "stdout",
     "output_type": "stream",
     "text": [
      "Window size:  12\n",
      "Window size:  13\n",
      "Window size:  14\n",
      "Window size:  15\n",
      "Window size:  16\n",
      "Window size:  17\n",
      "Window size:  18\n",
      "Window size:  19\n",
      "Window size:  20\n",
      "Window size:  21\n",
      "Window size:  22\n",
      "Window size:  23\n",
      "Window size:  24\n",
      "Window size:  25\n"
     ]
    }
   ],
   "source": [
    "# number of tracks for step size 8\n",
    "step = 8\n",
    "ntracks_step_8 = []\n",
    "for w in window_sizes:\n",
    "    print('Window size: ', w)\n",
    "    ntracks_df = number_of_tracks(filenames, w)\n",
    "    ntracks_step_8.append(ntracks_mean_over_files(ntracks_df, w, step))"
   ]
  },
  {
   "cell_type": "code",
   "execution_count": 26,
   "metadata": {},
   "outputs": [
    {
     "data": {
      "text/plain": [
       "Text(0, 0.5, 'average number of tracks at step size 8')"
      ]
     },
     "execution_count": 26,
     "metadata": {},
     "output_type": "execute_result"
    },
    {
     "data": {
      "image/png": "[encoded data removed]",
      "text/plain": [
       "<Figure size 432x288 with 2 Axes>"
      ]
     },
     "metadata": {
      "needs_background": "light"
     },
     "output_type": "display_data"
    }
   ],
   "source": [
    "fig,ax = plt.subplots()\n",
    "ax.plot(window_sizes, mean_abs_errors, color='b')\n",
    "ax.set_xlabel('window size')\n",
    "ax.set_xticks(window_sizes)\n",
    "ax.set_ylabel('mean absolute error', color='b')\n",
    "ax2 = ax.twinx()\n",
    "ax2.plot(window_sizes, ntracks_step_8, color='r')\n",
    "ax2.set_ylabel('average number of tracks at step size {}'.format(step), color='r')"
   ]
  },
  {
   "cell_type": "code",
   "execution_count": 43,
   "metadata": {},
   "outputs": [
    {
     "name": "stdout",
     "output_type": "stream",
     "text": [
      "[-4.79339568 -4.56764247 -4.76608019 -4.62717127 -4.6360993  -4.52339315\n",
      " -4.61177665 -4.48580906 -4.51280422 -4.33570338 -4.47162519 -4.58872724\n",
      " -4.8591997  -4.98687247]\n"
     ]
    }
   ],
   "source": [
    "param = np.empty(len(window_sizes))  # parameter to maximize\n",
    "for i in range(len(window_sizes)):\n",
    "    param[i] = (ntracks_step_8[i]/(max(ntracks_step_8)-min(ntracks_step_8))) - (mean_abs_errors[i]/(max(mean_abs_errors)-min(mean_abs_errors)))\n",
    "best_window = window_sizes[np.argmax(param)]\n",
    "\n",
    "print(param)"
   ]
  },
  {
   "cell_type": "code",
   "execution_count": 44,
   "metadata": {},
   "outputs": [
    {
     "data": {
      "text/plain": [
       "21"
      ]
     },
     "execution_count": 44,
     "metadata": {},
     "output_type": "execute_result"
    }
   ],
   "source": [
    "best_window"
   ]
  },
  {
   "cell_type": "code",
   "execution_count": null,
   "metadata": {},
   "outputs": [],
   "source": []
  }
 ],
 "metadata": {
  "kernelspec": {
   "display_name": "Python 3",
   "language": "python",
   "name": "python3"
  },
  "language_info": {
   "codemirror_mode": {
    "name": "ipython",
    "version": 3
   },
   "file_extension": ".py",
   "mimetype": "text/x-python",
   "name": "python",
   "nbconvert_exporter": "python",
   "pygments_lexer": "ipython3",
   "version": "3.7.7"
  }
 },
 "nbformat": 4,
 "nbformat_minor": 4
}
