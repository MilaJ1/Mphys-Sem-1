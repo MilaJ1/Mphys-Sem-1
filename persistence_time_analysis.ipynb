{
 "cells": [
  {
   "cell_type": "markdown",
   "id": "fdb7cdbc",
   "metadata": {},
   "source": [
    "### Persistence time analysis"
   ]
  },
  {
   "cell_type": "code",
   "execution_count": 37,
   "id": "4e528b9f",
   "metadata": {},
   "outputs": [],
   "source": [
    "import pandas as pd\n",
    "import numpy as np\n",
    "import matplotlib.pyplot as plt\n",
    "from mpl_toolkits.mplot3d import Axes3D\n",
    "import tensorflow as tf\n",
    "from scipy.stats import norm\n",
    "from sklearn.mixture import GaussianMixture as GMM\n",
    "from scipy import stats\n",
    "import json"
   ]
  },
  {
   "cell_type": "code",
   "execution_count": 121,
   "id": "fac1aab5",
   "metadata": {},
   "outputs": [],
   "source": [
    "def filter_data(data_in, max_step_size, window, restriction=10000):\n",
    "    \"\"\"\n",
    "    Only keeps data for tracks that are long enough for hurst exponent estimation at a given downsampling step size.\n",
    "    Args: \n",
    "        data_in: pandas dataframe, original data\n",
    "        max_step_size: int, maximum downsampling step size\n",
    "        window: int, size of rolling window for hurst component estimation\n",
    "    Returns:\n",
    "        filtered_data: pandas dataframe\n",
    "    \"\"\"\n",
    "    tracks_to_keep = data_in.TrackID.value_counts().loc[lambda x: (x//max_step_size) > (window+1)].reset_index()['index']\n",
    "    if restriction<len(tracks_to_keep):\n",
    "        filtered_data = data_in[data_in['TrackID'].isin(tracks_to_keep[:restriction])]\n",
    "    else:\n",
    "        filtered_data = data_in[data_in['TrackID'].isin(tracks_to_keep)]\n",
    "    return filtered_data"
   ]
  },
  {
   "cell_type": "code",
   "execution_count": 117,
   "id": "0605fb25",
   "metadata": {},
   "outputs": [],
   "source": [
    "def get_mod(v):\n",
    "    \n",
    "    return np.sqrt(v.dot(v))\n",
    "\n",
    "def get_step_vector(index,data_x,data_y,data_z):\n",
    "    \n",
    "    dx = data_x[index]-data_x[index-1]\n",
    "    dy = data_y[index]-data_y[index-1]\n",
    "    dz = data_z[index]-data_z[index-1]\n",
    "    \n",
    "    step_vector = np.array([dx,dy,dz])   \n",
    "\n",
    "    return step_vector  \n",
    "\n",
    "def get_cos_theta(data_in):\n",
    "    \n",
    "    track_id_values = np.unique(data['TrackID'])\n",
    "    cos_theta_avg = np.array([])\n",
    "    \n",
    "    for tid in track_id_values:\n",
    "        track_data = data[data['TrackID']==tid]\n",
    "        x = track_data['Position X'].values\n",
    "        y = track_data['Position Y'].values\n",
    "        z = track_data['Position Z'].values\n",
    "        \n",
    "        length = len(track_data)\n",
    "        step_vectors = np.empty((length-1,3))\n",
    "        cos_theta_temp = np.empty(length-2)\n",
    "        for i in np.arange(length):\n",
    "            if i>=1:\n",
    "                \n",
    "                step_vectors[i-1] = get_step_vector(i,x,y,z)\n",
    "            if i>=2:\n",
    "                \n",
    "                v0 = step_vectors[i-2]\n",
    "                v1 = step_vectors[i-1]\n",
    "                cos_theta_temp[i-2] = np.dot(v0,v1)/(get_mod(v1)*get_mod(v0))\n",
    "                \n",
    "        cos_theta_avg = np.append(cos_theta_avg,np.mean(cos_theta_temp))\n",
    "                \n",
    "    return cos_theta_avg\n",
    "\n",
    "def get_cos_theta_dict(filtered_data, step_sizes, window, restriction):\n",
    "    \"\"\"\n",
    "    \"\"\"\n",
    "    cos_theta_dict = {}\n",
    "    \n",
    "    for i, s in enumerate(step_sizes):\n",
    "        cos_theta_arr = get_h_values(filtered_data, s, window, restriction)\n",
    "        cos_theta_dict[\"{}\".format(s)] = cos_theta_arr.tolist()\n",
    "        \n",
    "    return get_cos_theta_dict\n",
    "      "
   ]
  },
  {
   "cell_type": "code",
   "execution_count": 38,
   "id": "74d9a87e",
   "metadata": {},
   "outputs": [],
   "source": [
    "filenames = np.array(['Control_frame001-200',\n",
    "                      'Control_frame200-400',\n",
    "                      'Control_frame400-600',\n",
    "                      'Control_frame600-800',\n",
    "                      'Control_frame800-1000',\n",
    "                      'Control_frame1000-1200',\n",
    "                      'LanB1_frame001-200',\n",
    "                      'LanB1_frame200-400',\n",
    "                      'LanB1_frame400-600',\n",
    "                      'LanB1_frame600-800',\n",
    "                      'LanB1_frame800-1000',\n",
    "                      'LanB1_frame1000-1200',\n",
    "                      'defLanB1_300817_frame200-400',\n",
    "                      'defLanB1_300817_frame400-600'])"
   ]
  },
  {
   "cell_type": "code",
   "execution_count": 120,
   "id": "45bf60c1",
   "metadata": {},
   "outputs": [],
   "source": [
    "data = pd.read_csv('haemocyte_tracking_data/' + filenames[0] + '.csv')"
   ]
  },
  {
   "cell_type": "code",
   "execution_count": 118,
   "id": "019ac0c9",
   "metadata": {},
   "outputs": [],
   "source": [
    "cos_theta = get_cos_theta(data)"
   ]
  },
  {
   "cell_type": "code",
   "execution_count": 119,
   "id": "4b8fdda8",
   "metadata": {},
   "outputs": [
    {
     "name": "stdout",
     "output_type": "stream",
     "text": [
      "0.3941953553715469\n"
     ]
    }
   ],
   "source": [
    "step_sizes = [1,2,3,4,5,6,7,8]\n",
    "restriction = 30\n",
    "\n",
    "# iterate over data files and save H dictionary \n",
    "for i, file in enumerate(filenames):\n",
    "    print('opened file {}'.format(file))\n",
    "    data = pd.read_csv('haemocyte_tracking_data/' + file + '.csv')\n",
    "    filtered_data = filter_data(data, max(step_sizes), window, restriction)\n",
    "    _dict = get_h_dict(filtered_data, step_sizes, window, restriction)\n",
    "    save_h_data(h_dict, file, window, step_sizes, restriction)"
   ]
  },
  {
   "cell_type": "code",
   "execution_count": null,
   "id": "7b1d7d65",
   "metadata": {},
   "outputs": [],
   "source": []
  }
 ],
 "metadata": {
  "kernelspec": {
   "display_name": "Python 3",
   "language": "python",
   "name": "python3"
  },
  "language_info": {
   "codemirror_mode": {
    "name": "ipython",
    "version": 3
   },
   "file_extension": ".py",
   "mimetype": "text/x-python",
   "name": "python",
   "nbconvert_exporter": "python",
   "pygments_lexer": "ipython3",
   "version": "3.8.8"
  }
 },
 "nbformat": 4,
 "nbformat_minor": 5
}
