{
 "cells": [
  {
   "cell_type": "code",
   "execution_count": 1,
   "id": "d9bb5926",
   "metadata": {},
   "outputs": [],
   "source": [
    "import pandas as pd\n",
    "import numpy as np\n",
    "import matplotlib.pyplot as plt\n",
    "from mpl_toolkits.mplot3d import Axes3D\n",
    "import tensorflow as tf\n",
    "from scipy.stats import norm\n",
    "from sklearn.mixture import GaussianMixture as GMM\n",
    "from scipy import stats\n",
    "import json"
   ]
  },
  {
   "cell_type": "code",
   "execution_count": 3,
   "id": "f54e474f",
   "metadata": {},
   "outputs": [],
   "source": [
    "def get_dict_from_file(file_name, window, step_sizes, restriction,path='h_dict_data/'):\n",
    "    \"\"\"\n",
    "    Reads in dictionary of H values.\n",
    "    \"\"\"\n",
    "    try:\n",
    "        with open(path+'h_dict_'+'w{}_'.format(window)+'s{}_'.format(max(step_sizes))+'r{}_'.format(restriction)+file_name, 'r') as file:\n",
    "            h_dict = file.read()\n",
    "    except FileNotFoundError:\n",
    "        with open(path+'h_dict_'+'w{}_'.format(window)+'s{}_'.format(max(step_sizes))+'r{}_'.format(restriction)+file_name+'.txt', 'r') as file:\n",
    "            h_dict = file.read()\n",
    "        \n",
    "    return json.loads(h_dict)\n",
    "\n",
    "def optimum_components(data,n_max,plot=0):\n",
    "    bics = []\n",
    "    aics = []\n",
    "    min_bic = 0\n",
    "    min_aic = 0\n",
    "    b_counter=1\n",
    "    a_counter=1\n",
    "    for i in np.arange(1,n_max-1): # test the AIC/BIC metric between 1 and 10 components\n",
    "        gmm = GMM(n_components = i, max_iter=1000, random_state=10, covariance_type = 'full')\n",
    "        labels = gmm.fit(data).predict(data)\n",
    "        bic = gmm.bic(data)\n",
    "        aic = gmm.aic(data)\n",
    "        bics.append(bic)\n",
    "        aics.append(aic)\n",
    "        if bic < min_bic or min_bic == 0:\n",
    "            min_bic = bic\n",
    "            opt_bic = b_counter\n",
    "        b_counter +=1\n",
    "        if aic < min_aic or min_aic == 0:\n",
    "            min_aic = aic\n",
    "            opt_aic = a_counter\n",
    "        a_counter +=1\n",
    "    \n",
    "    if plot==1:    \n",
    "        fig,ax = plt.subplots(figsize=(10, 4))\n",
    "        # Plot 1\n",
    "        plt.plot(np.arange(1,n_max-1), bics, 'o-', lw=3, c='black', label='BIC')\n",
    "        plt.plot(np.arange(1,n_max-1), aics, 'o-', lw=3, label='AIC')\n",
    "        plt.legend(frameon=False, fontsize=15)\n",
    "        plt.xlabel('Number of components', fontsize=12)\n",
    "        plt.ylabel('Bayesian Information criterion', fontsize=12)\n",
    "        plt.xticks(np.arange(0,n_max, 2))\n",
    "        plt.title('Opt. components = '+str(opt_bic), fontsize=20)\n",
    "        plt.show()\n",
    "\n",
    "        \n",
    "    return opt_bic,bics,opt_aic,aics\n"
   ]
  },
  {
   "cell_type": "code",
   "execution_count": null,
   "id": "bef3dd66",
   "metadata": {},
   "outputs": [],
   "source": []
  }
 ],
 "metadata": {
  "kernelspec": {
   "display_name": "Python 3",
   "language": "python",
   "name": "python3"
  },
  "language_info": {
   "codemirror_mode": {
    "name": "ipython",
    "version": 3
   },
   "file_extension": ".py",
   "mimetype": "text/x-python",
   "name": "python",
   "nbconvert_exporter": "python",
   "pygments_lexer": "ipython3",
   "version": "3.8.8"
  }
 },
 "nbformat": 4,
 "nbformat_minor": 5
}
