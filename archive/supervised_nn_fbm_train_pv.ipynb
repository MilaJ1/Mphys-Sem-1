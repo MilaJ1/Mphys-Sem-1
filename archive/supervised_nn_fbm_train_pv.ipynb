{
 "cells": [
  {
   "cell_type": "code",
   "execution_count": 2,
   "id": "f4d427bb",
   "metadata": {},
   "outputs": [],
   "source": [
    "#Python script to train, evaluate and save model to estimate the Hurst exponent from trajectory of fBm.\n",
    "# import tensorflow as tf\n",
    "import numpy as np\n",
    "import matplotlib.pyplot as plt\n",
    "import tensorflow as tf\n",
    "from stochastic.processes.continuous import FractionalBrownianMotion"
   ]
  },
  {
   "cell_type": "markdown",
   "id": "1bda79be",
   "metadata": {},
   "source": [
    "### Data for training and testing"
   ]
  },
  {
   "cell_type": "code",
   "execution_count": 16,
   "id": "5fa85530",
   "metadata": {},
   "outputs": [
    {
     "name": "stdout",
     "output_type": "stream",
     "text": [
      "training data shape: (100, 14) training labels shape: (100, 1) test data shape: (100, 14) test labels shape: (100, 1)\n"
     ]
    }
   ],
   "source": [
    "#generate our data for training and testing\n",
    "nsamples = 100\n",
    "ntimes = 14 #windowsize\n",
    "\n",
    "def gen_fbm_data(nsamples,ntimes):\n",
    "    \"\"\"\n",
    "    Function to produce fractional brownian motion data for neural network \n",
    "    training and testing\n",
    "    Inputs: nsamples; number of samples, ntimes; number of times\n",
    "    Outputs: traindata; training data for NN, trainlabels; labels associated \n",
    "            with traindata\n",
    "    \"\"\"\n",
    "    data = np.empty((nsamples,ntimes))\n",
    "    labels = np.empty((nsamples,1))\n",
    "    for i in range(0,nsamples):\n",
    "        hurst_exp = np.random.uniform(0.,1.)\n",
    "        fbm = FractionalBrownianMotion(hurst=hurst_exp,t=1,rng=None)\n",
    "        x = fbm.sample(ntimes)\n",
    "        #apply differencing and normalization on the data\n",
    "        dx = (x[1:]-x[0:-1])/(np.amax(x)-np.amin(x))\n",
    "        data[i,:] = dx\n",
    "        labels[i,:] = hurst_exp\n",
    "        \n",
    "    return data,labels\n",
    "\n",
    "training_data,training_labels = gen_fbm_data(nsamples,ntimes)\n",
    "test_data,test_labels = gen_fbm_data(nsamples,ntimes)\n",
    "np.savetxt(\"H_testvalues_n\"+str(ntimes)+\".csv\",test_labels,delimiter=\",\")\n",
    "\n",
    "print('training data shape:',training_data.shape,'training labels shape:', training_labels.shape,\n",
    "      'test data shape:',test_data.shape,'test labels shape:',test_labels.shape)"
   ]
  },
  {
   "cell_type": "markdown",
   "id": "fe27ec5c",
   "metadata": {},
   "source": [
    "### Developing neural network model"
   ]
  },
  {
   "cell_type": "code",
   "execution_count": 18,
   "id": "fc229587",
   "metadata": {},
   "outputs": [
    {
     "name": "stdout",
     "output_type": "stream",
     "text": [
      "Model: \"sequential_3\"\n",
      "_________________________________________________________________\n",
      " Layer (type)                Output Shape              Param #   \n",
      "=================================================================\n",
      " dense_12 (Dense)            (None, 14)                210       \n",
      "                                                                 \n",
      " dense_13 (Dense)            (None, 13)                195       \n",
      "                                                                 \n",
      " dense_14 (Dense)            (None, 12)                168       \n",
      "                                                                 \n",
      " dense_15 (Dense)            (None, 1)                 13        \n",
      "                                                                 \n",
      "=================================================================\n",
      "Total params: 586\n",
      "Trainable params: 586\n",
      "Non-trainable params: 0\n",
      "_________________________________________________________________\n"
     ]
    }
   ],
   "source": [
    "def gen_nn_model(ntimes,activation_func='relu',optimizer='adam',\n",
    "                 loss_func='mean_absolute_error',summary=1):\n",
    "    \n",
    "    #create the model for a fully-connected network\n",
    "    model = tf.keras.Sequential([\n",
    "        tf.keras.layers.Dense(ntimes,activation=activation_func,input_shape=(ntimes,)),\n",
    "        tf.keras.layers.Dense(ntimes-1,activation=activation_func),\n",
    "        tf.keras.layers.Dense(ntimes-2,activation=activation_func),\n",
    "        tf.keras.layers.Dense(1,activation=activation_func)])\n",
    "    #add optimizer, a loss function and metrics#\n",
    "    # optimizer = tf.keras.optimizers.RMSprop(0.001)\n",
    "    model.compile(optimizer=optimizer,\n",
    "                  loss=loss_func,\n",
    "                  metrics=[loss_func,'mean_squared_error'])\n",
    "    if summary==1:\n",
    "        model.summary()\n",
    "    return model\n",
    "\n",
    "model = gen_nn_model(ntimes)"
   ]
  },
  {
   "cell_type": "markdown",
   "id": "fe24afd4",
   "metadata": {},
   "source": [
    "### Model training"
   ]
  },
  {
   "cell_type": "code",
   "execution_count": 11,
   "id": "6a6898dd",
   "metadata": {
    "collapsed": true
   },
   "outputs": [
    {
     "name": "stdout",
     "output_type": "stream",
     "text": [
      "Epoch 1/100\n",
      "1/1 [==============================] - 0s 440ms/step - loss: 0.0184 - mean_absolute_error: 0.0184 - mean_squared_error: 0.0022 - val_loss: 0.2185 - val_mean_absolute_error: 0.2185 - val_mean_squared_error: 0.0716\n",
      "Epoch 2/100\n",
      "1/1 [==============================] - 0s 48ms/step - loss: 0.0187 - mean_absolute_error: 0.0187 - mean_squared_error: 0.0022 - val_loss: 0.2185 - val_mean_absolute_error: 0.2185 - val_mean_squared_error: 0.0715\n",
      "Epoch 3/100\n",
      "1/1 [==============================] - 0s 51ms/step - loss: 0.0180 - mean_absolute_error: 0.0180 - mean_squared_error: 0.0021 - val_loss: 0.2187 - val_mean_absolute_error: 0.2187 - val_mean_squared_error: 0.0716\n",
      "Epoch 4/100\n",
      "1/1 [==============================] - 0s 46ms/step - loss: 0.0177 - mean_absolute_error: 0.0177 - mean_squared_error: 0.0021 - val_loss: 0.2188 - val_mean_absolute_error: 0.2188 - val_mean_squared_error: 0.0717\n",
      "Epoch 5/100\n",
      "1/1 [==============================] - 0s 43ms/step - loss: 0.0182 - mean_absolute_error: 0.0182 - mean_squared_error: 0.0021 - val_loss: 0.2187 - val_mean_absolute_error: 0.2187 - val_mean_squared_error: 0.0715\n",
      "Epoch 6/100\n",
      "1/1 [==============================] - 0s 39ms/step - loss: 0.0177 - mean_absolute_error: 0.0177 - mean_squared_error: 0.0021 - val_loss: 0.2183 - val_mean_absolute_error: 0.2183 - val_mean_squared_error: 0.0713\n",
      "Epoch 7/100\n",
      "1/1 [==============================] - 0s 39ms/step - loss: 0.0173 - mean_absolute_error: 0.0173 - mean_squared_error: 0.0021 - val_loss: 0.2185 - val_mean_absolute_error: 0.2185 - val_mean_squared_error: 0.0714\n",
      "Epoch 8/100\n",
      "1/1 [==============================] - 0s 38ms/step - loss: 0.0172 - mean_absolute_error: 0.0172 - mean_squared_error: 0.0020 - val_loss: 0.2190 - val_mean_absolute_error: 0.2190 - val_mean_squared_error: 0.0716\n",
      "Epoch 9/100\n",
      "1/1 [==============================] - 0s 48ms/step - loss: 0.0183 - mean_absolute_error: 0.0183 - mean_squared_error: 0.0019 - val_loss: 0.2187 - val_mean_absolute_error: 0.2187 - val_mean_squared_error: 0.0714\n",
      "Epoch 10/100\n",
      "1/1 [==============================] - 0s 45ms/step - loss: 0.0174 - mean_absolute_error: 0.0174 - mean_squared_error: 0.0019 - val_loss: 0.2182 - val_mean_absolute_error: 0.2182 - val_mean_squared_error: 0.0711\n",
      "Epoch 11/100\n",
      "1/1 [==============================] - 0s 41ms/step - loss: 0.0176 - mean_absolute_error: 0.0176 - mean_squared_error: 0.0020 - val_loss: 0.2181 - val_mean_absolute_error: 0.2181 - val_mean_squared_error: 0.0710\n",
      "Epoch 12/100\n",
      "1/1 [==============================] - 0s 42ms/step - loss: 0.0172 - mean_absolute_error: 0.0172 - mean_squared_error: 0.0020 - val_loss: 0.2186 - val_mean_absolute_error: 0.2186 - val_mean_squared_error: 0.0712\n",
      "Epoch 13/100\n",
      "1/1 [==============================] - 0s 42ms/step - loss: 0.0172 - mean_absolute_error: 0.0172 - mean_squared_error: 0.0019 - val_loss: 0.2184 - val_mean_absolute_error: 0.2184 - val_mean_squared_error: 0.0711\n",
      "Epoch 14/100\n",
      "1/1 [==============================] - 0s 39ms/step - loss: 0.0172 - mean_absolute_error: 0.0172 - mean_squared_error: 0.0019 - val_loss: 0.2178 - val_mean_absolute_error: 0.2178 - val_mean_squared_error: 0.0708\n",
      "Epoch 15/100\n",
      "1/1 [==============================] - 0s 49ms/step - loss: 0.0169 - mean_absolute_error: 0.0169 - mean_squared_error: 0.0019 - val_loss: 0.2177 - val_mean_absolute_error: 0.2177 - val_mean_squared_error: 0.0706\n",
      "Epoch 16/100\n",
      "1/1 [==============================] - 0s 43ms/step - loss: 0.0168 - mean_absolute_error: 0.0168 - mean_squared_error: 0.0019 - val_loss: 0.2179 - val_mean_absolute_error: 0.2179 - val_mean_squared_error: 0.0707\n",
      "Epoch 17/100\n",
      "1/1 [==============================] - 0s 38ms/step - loss: 0.0162 - mean_absolute_error: 0.0162 - mean_squared_error: 0.0018 - val_loss: 0.2182 - val_mean_absolute_error: 0.2182 - val_mean_squared_error: 0.0708\n",
      "Epoch 18/100\n",
      "1/1 [==============================] - 0s 35ms/step - loss: 0.0161 - mean_absolute_error: 0.0161 - mean_squared_error: 0.0018 - val_loss: 0.2180 - val_mean_absolute_error: 0.2180 - val_mean_squared_error: 0.0707\n",
      "Epoch 19/100\n",
      "1/1 [==============================] - 0s 36ms/step - loss: 0.0160 - mean_absolute_error: 0.0160 - mean_squared_error: 0.0017 - val_loss: 0.2178 - val_mean_absolute_error: 0.2178 - val_mean_squared_error: 0.0706\n",
      "Epoch 20/100\n",
      "1/1 [==============================] - 0s 45ms/step - loss: 0.0160 - mean_absolute_error: 0.0160 - mean_squared_error: 0.0017 - val_loss: 0.2178 - val_mean_absolute_error: 0.2178 - val_mean_squared_error: 0.0706\n",
      "Epoch 21/100\n",
      "1/1 [==============================] - 0s 48ms/step - loss: 0.0155 - mean_absolute_error: 0.0155 - mean_squared_error: 0.0017 - val_loss: 0.2179 - val_mean_absolute_error: 0.2179 - val_mean_squared_error: 0.0706\n",
      "Epoch 22/100\n",
      "1/1 [==============================] - 0s 49ms/step - loss: 0.0155 - mean_absolute_error: 0.0155 - mean_squared_error: 0.0017 - val_loss: 0.2175 - val_mean_absolute_error: 0.2175 - val_mean_squared_error: 0.0703\n",
      "Epoch 23/100\n",
      "1/1 [==============================] - 0s 43ms/step - loss: 0.0157 - mean_absolute_error: 0.0157 - mean_squared_error: 0.0017 - val_loss: 0.2178 - val_mean_absolute_error: 0.2178 - val_mean_squared_error: 0.0704\n",
      "Epoch 24/100\n",
      "1/1 [==============================] - 0s 47ms/step - loss: 0.0151 - mean_absolute_error: 0.0151 - mean_squared_error: 0.0016 - val_loss: 0.2176 - val_mean_absolute_error: 0.2176 - val_mean_squared_error: 0.0703\n",
      "Epoch 25/100\n",
      "1/1 [==============================] - 0s 34ms/step - loss: 0.0150 - mean_absolute_error: 0.0150 - mean_squared_error: 0.0016 - val_loss: 0.2176 - val_mean_absolute_error: 0.2176 - val_mean_squared_error: 0.0702\n",
      "Epoch 26/100\n",
      "1/1 [==============================] - 0s 39ms/step - loss: 0.0150 - mean_absolute_error: 0.0150 - mean_squared_error: 0.0016 - val_loss: 0.2176 - val_mean_absolute_error: 0.2176 - val_mean_squared_error: 0.0703\n",
      "Epoch 27/100\n",
      "1/1 [==============================] - 0s 38ms/step - loss: 0.0150 - mean_absolute_error: 0.0150 - mean_squared_error: 0.0016 - val_loss: 0.2174 - val_mean_absolute_error: 0.2174 - val_mean_squared_error: 0.0701\n",
      "Epoch 28/100\n",
      "1/1 [==============================] - 0s 38ms/step - loss: 0.0147 - mean_absolute_error: 0.0147 - mean_squared_error: 0.0016 - val_loss: 0.2172 - val_mean_absolute_error: 0.2172 - val_mean_squared_error: 0.0700\n",
      "Epoch 29/100\n",
      "1/1 [==============================] - 0s 39ms/step - loss: 0.0149 - mean_absolute_error: 0.0149 - mean_squared_error: 0.0016 - val_loss: 0.2175 - val_mean_absolute_error: 0.2175 - val_mean_squared_error: 0.0701\n",
      "Epoch 30/100\n",
      "1/1 [==============================] - 0s 41ms/step - loss: 0.0149 - mean_absolute_error: 0.0149 - mean_squared_error: 0.0015 - val_loss: 0.2174 - val_mean_absolute_error: 0.2174 - val_mean_squared_error: 0.0701\n",
      "Epoch 31/100\n",
      "1/1 [==============================] - 0s 39ms/step - loss: 0.0149 - mean_absolute_error: 0.0149 - mean_squared_error: 0.0015 - val_loss: 0.2169 - val_mean_absolute_error: 0.2169 - val_mean_squared_error: 0.0698\n",
      "Epoch 32/100\n",
      "1/1 [==============================] - 0s 46ms/step - loss: 0.0151 - mean_absolute_error: 0.0151 - mean_squared_error: 0.0015 - val_loss: 0.2167 - val_mean_absolute_error: 0.2167 - val_mean_squared_error: 0.0696\n",
      "Epoch 33/100\n",
      "1/1 [==============================] - 0s 48ms/step - loss: 0.0153 - mean_absolute_error: 0.0153 - mean_squared_error: 0.0015 - val_loss: 0.2171 - val_mean_absolute_error: 0.2171 - val_mean_squared_error: 0.0698\n",
      "Epoch 34/100\n",
      "1/1 [==============================] - 0s 49ms/step - loss: 0.0145 - mean_absolute_error: 0.0145 - mean_squared_error: 0.0014 - val_loss: 0.2174 - val_mean_absolute_error: 0.2174 - val_mean_squared_error: 0.0699\n",
      "Epoch 35/100\n",
      "1/1 [==============================] - 0s 34ms/step - loss: 0.0149 - mean_absolute_error: 0.0149 - mean_squared_error: 0.0014 - val_loss: 0.2170 - val_mean_absolute_error: 0.2170 - val_mean_squared_error: 0.0697\n",
      "Epoch 36/100\n",
      "1/1 [==============================] - 0s 39ms/step - loss: 0.0140 - mean_absolute_error: 0.0140 - mean_squared_error: 0.0014 - val_loss: 0.2167 - val_mean_absolute_error: 0.2167 - val_mean_squared_error: 0.0694\n",
      "Epoch 37/100\n"
     ]
    },
    {
     "name": "stdout",
     "output_type": "stream",
     "text": [
      "1/1 [==============================] - 0s 34ms/step - loss: 0.0146 - mean_absolute_error: 0.0146 - mean_squared_error: 0.0014 - val_loss: 0.2169 - val_mean_absolute_error: 0.2169 - val_mean_squared_error: 0.0695\n",
      "Epoch 38/100\n",
      "1/1 [==============================] - 0s 38ms/step - loss: 0.0137 - mean_absolute_error: 0.0137 - mean_squared_error: 0.0014 - val_loss: 0.2170 - val_mean_absolute_error: 0.2170 - val_mean_squared_error: 0.0696\n",
      "Epoch 39/100\n",
      "1/1 [==============================] - 0s 35ms/step - loss: 0.0140 - mean_absolute_error: 0.0140 - mean_squared_error: 0.0013 - val_loss: 0.2166 - val_mean_absolute_error: 0.2166 - val_mean_squared_error: 0.0694\n",
      "Epoch 40/100\n",
      "1/1 [==============================] - 0s 55ms/step - loss: 0.0136 - mean_absolute_error: 0.0136 - mean_squared_error: 0.0013 - val_loss: 0.2166 - val_mean_absolute_error: 0.2166 - val_mean_squared_error: 0.0693\n",
      "Epoch 41/100\n",
      "1/1 [==============================] - 0s 40ms/step - loss: 0.0131 - mean_absolute_error: 0.0131 - mean_squared_error: 0.0013 - val_loss: 0.2167 - val_mean_absolute_error: 0.2167 - val_mean_squared_error: 0.0693\n",
      "Epoch 42/100\n",
      "1/1 [==============================] - 0s 41ms/step - loss: 0.0128 - mean_absolute_error: 0.0128 - mean_squared_error: 0.0013 - val_loss: 0.2167 - val_mean_absolute_error: 0.2167 - val_mean_squared_error: 0.0693\n",
      "Epoch 43/100\n",
      "1/1 [==============================] - 0s 36ms/step - loss: 0.0133 - mean_absolute_error: 0.0133 - mean_squared_error: 0.0013 - val_loss: 0.2163 - val_mean_absolute_error: 0.2163 - val_mean_squared_error: 0.0690\n",
      "Epoch 44/100\n",
      "1/1 [==============================] - 0s 34ms/step - loss: 0.0136 - mean_absolute_error: 0.0136 - mean_squared_error: 0.0013 - val_loss: 0.2163 - val_mean_absolute_error: 0.2163 - val_mean_squared_error: 0.0690\n",
      "Epoch 45/100\n",
      "1/1 [==============================] - 0s 44ms/step - loss: 0.0134 - mean_absolute_error: 0.0134 - mean_squared_error: 0.0012 - val_loss: 0.2165 - val_mean_absolute_error: 0.2165 - val_mean_squared_error: 0.0691\n",
      "Epoch 46/100\n",
      "1/1 [==============================] - 0s 42ms/step - loss: 0.0133 - mean_absolute_error: 0.0133 - mean_squared_error: 0.0012 - val_loss: 0.2162 - val_mean_absolute_error: 0.2162 - val_mean_squared_error: 0.0690\n",
      "Epoch 47/100\n",
      "1/1 [==============================] - 0s 41ms/step - loss: 0.0131 - mean_absolute_error: 0.0131 - mean_squared_error: 0.0012 - val_loss: 0.2161 - val_mean_absolute_error: 0.2161 - val_mean_squared_error: 0.0689\n",
      "Epoch 48/100\n",
      "1/1 [==============================] - 0s 41ms/step - loss: 0.0127 - mean_absolute_error: 0.0127 - mean_squared_error: 0.0012 - val_loss: 0.2163 - val_mean_absolute_error: 0.2163 - val_mean_squared_error: 0.0689\n",
      "Epoch 49/100\n",
      "1/1 [==============================] - 0s 33ms/step - loss: 0.0128 - mean_absolute_error: 0.0128 - mean_squared_error: 0.0011 - val_loss: 0.2162 - val_mean_absolute_error: 0.2162 - val_mean_squared_error: 0.0688\n",
      "Epoch 50/100\n",
      "1/1 [==============================] - 0s 39ms/step - loss: 0.0128 - mean_absolute_error: 0.0128 - mean_squared_error: 0.0011 - val_loss: 0.2161 - val_mean_absolute_error: 0.2161 - val_mean_squared_error: 0.0687\n",
      "Epoch 51/100\n",
      "1/1 [==============================] - 0s 37ms/step - loss: 0.0130 - mean_absolute_error: 0.0130 - mean_squared_error: 0.0012 - val_loss: 0.2161 - val_mean_absolute_error: 0.2161 - val_mean_squared_error: 0.0687\n",
      "Epoch 52/100\n",
      "1/1 [==============================] - 0s 40ms/step - loss: 0.0127 - mean_absolute_error: 0.0127 - mean_squared_error: 0.0011 - val_loss: 0.2163 - val_mean_absolute_error: 0.2163 - val_mean_squared_error: 0.0689\n",
      "Epoch 53/100\n",
      "1/1 [==============================] - 0s 41ms/step - loss: 0.0122 - mean_absolute_error: 0.0122 - mean_squared_error: 0.0011 - val_loss: 0.2163 - val_mean_absolute_error: 0.2163 - val_mean_squared_error: 0.0689\n",
      "Epoch 54/100\n",
      "1/1 [==============================] - 0s 42ms/step - loss: 0.0123 - mean_absolute_error: 0.0123 - mean_squared_error: 0.0010 - val_loss: 0.2160 - val_mean_absolute_error: 0.2160 - val_mean_squared_error: 0.0687\n",
      "Epoch 55/100\n",
      "1/1 [==============================] - 0s 37ms/step - loss: 0.0120 - mean_absolute_error: 0.0120 - mean_squared_error: 0.0010 - val_loss: 0.2157 - val_mean_absolute_error: 0.2157 - val_mean_squared_error: 0.0684\n",
      "Epoch 56/100\n",
      "1/1 [==============================] - 0s 36ms/step - loss: 0.0119 - mean_absolute_error: 0.0119 - mean_squared_error: 0.0010 - val_loss: 0.2157 - val_mean_absolute_error: 0.2157 - val_mean_squared_error: 0.0683\n",
      "Epoch 57/100\n",
      "1/1 [==============================] - 0s 39ms/step - loss: 0.0117 - mean_absolute_error: 0.0117 - mean_squared_error: 0.0010 - val_loss: 0.2159 - val_mean_absolute_error: 0.2159 - val_mean_squared_error: 0.0684\n",
      "Epoch 58/100\n",
      "1/1 [==============================] - 0s 39ms/step - loss: 0.0119 - mean_absolute_error: 0.0119 - mean_squared_error: 9.8908e-04 - val_loss: 0.2158 - val_mean_absolute_error: 0.2158 - val_mean_squared_error: 0.0684\n",
      "Epoch 59/100\n",
      "1/1 [==============================] - 0s 31ms/step - loss: 0.0114 - mean_absolute_error: 0.0114 - mean_squared_error: 9.7478e-04 - val_loss: 0.2155 - val_mean_absolute_error: 0.2155 - val_mean_squared_error: 0.0683\n",
      "Epoch 60/100\n",
      "1/1 [==============================] - 0s 38ms/step - loss: 0.0116 - mean_absolute_error: 0.0116 - mean_squared_error: 9.7348e-04 - val_loss: 0.2155 - val_mean_absolute_error: 0.2155 - val_mean_squared_error: 0.0683\n",
      "Epoch 61/100\n",
      "1/1 [==============================] - 0s 35ms/step - loss: 0.0115 - mean_absolute_error: 0.0115 - mean_squared_error: 9.5450e-04 - val_loss: 0.2159 - val_mean_absolute_error: 0.2159 - val_mean_squared_error: 0.0685\n",
      "Epoch 62/100\n",
      "1/1 [==============================] - 0s 42ms/step - loss: 0.0111 - mean_absolute_error: 0.0111 - mean_squared_error: 9.0792e-04 - val_loss: 0.2158 - val_mean_absolute_error: 0.2158 - val_mean_squared_error: 0.0684\n",
      "Epoch 63/100\n",
      "1/1 [==============================] - 0s 41ms/step - loss: 0.0109 - mean_absolute_error: 0.0109 - mean_squared_error: 9.0788e-04 - val_loss: 0.2157 - val_mean_absolute_error: 0.2157 - val_mean_squared_error: 0.0683\n",
      "Epoch 64/100\n",
      "1/1 [==============================] - 0s 35ms/step - loss: 0.0109 - mean_absolute_error: 0.0109 - mean_squared_error: 8.7354e-04 - val_loss: 0.2153 - val_mean_absolute_error: 0.2153 - val_mean_squared_error: 0.0680\n",
      "Epoch 65/100\n",
      "1/1 [==============================] - 0s 40ms/step - loss: 0.0107 - mean_absolute_error: 0.0107 - mean_squared_error: 8.7747e-04 - val_loss: 0.2152 - val_mean_absolute_error: 0.2152 - val_mean_squared_error: 0.0679\n",
      "Epoch 66/100\n",
      "1/1 [==============================] - 0s 39ms/step - loss: 0.0104 - mean_absolute_error: 0.0104 - mean_squared_error: 8.6900e-04 - val_loss: 0.2156 - val_mean_absolute_error: 0.2156 - val_mean_squared_error: 0.0682\n",
      "Epoch 67/100\n",
      "1/1 [==============================] - 0s 37ms/step - loss: 0.0111 - mean_absolute_error: 0.0111 - mean_squared_error: 8.2070e-04 - val_loss: 0.2155 - val_mean_absolute_error: 0.2155 - val_mean_squared_error: 0.0681\n",
      "Epoch 68/100\n",
      "1/1 [==============================] - 0s 35ms/step - loss: 0.0107 - mean_absolute_error: 0.0107 - mean_squared_error: 8.1416e-04 - val_loss: 0.2150 - val_mean_absolute_error: 0.2150 - val_mean_squared_error: 0.0677\n",
      "Epoch 69/100\n",
      "1/1 [==============================] - 0s 43ms/step - loss: 0.0110 - mean_absolute_error: 0.0110 - mean_squared_error: 8.2728e-04 - val_loss: 0.2150 - val_mean_absolute_error: 0.2150 - val_mean_squared_error: 0.0677\n",
      "Epoch 70/100\n",
      "1/1 [==============================] - 0s 37ms/step - loss: 0.0102 - mean_absolute_error: 0.0102 - mean_squared_error: 7.7806e-04 - val_loss: 0.2154 - val_mean_absolute_error: 0.2154 - val_mean_squared_error: 0.0680\n",
      "Epoch 71/100\n",
      "1/1 [==============================] - 0s 40ms/step - loss: 0.0106 - mean_absolute_error: 0.0106 - mean_squared_error: 7.0714e-04 - val_loss: 0.2154 - val_mean_absolute_error: 0.2154 - val_mean_squared_error: 0.0680\n",
      "Epoch 72/100\n",
      "1/1 [==============================] - 0s 35ms/step - loss: 0.0109 - mean_absolute_error: 0.0109 - mean_squared_error: 6.7962e-04 - val_loss: 0.2149 - val_mean_absolute_error: 0.2149 - val_mean_squared_error: 0.0676\n",
      "Epoch 73/100\n"
     ]
    },
    {
     "name": "stdout",
     "output_type": "stream",
     "text": [
      "1/1 [==============================] - 0s 45ms/step - loss: 0.0101 - mean_absolute_error: 0.0101 - mean_squared_error: 6.8681e-04 - val_loss: 0.2145 - val_mean_absolute_error: 0.2145 - val_mean_squared_error: 0.0673\n",
      "Epoch 74/100\n",
      "1/1 [==============================] - 0s 43ms/step - loss: 0.0105 - mean_absolute_error: 0.0105 - mean_squared_error: 7.0991e-04 - val_loss: 0.2145 - val_mean_absolute_error: 0.2145 - val_mean_squared_error: 0.0673\n",
      "Epoch 75/100\n",
      "1/1 [==============================] - 0s 42ms/step - loss: 0.0098 - mean_absolute_error: 0.0098 - mean_squared_error: 6.8369e-04 - val_loss: 0.2146 - val_mean_absolute_error: 0.2146 - val_mean_squared_error: 0.0675\n",
      "Epoch 76/100\n",
      "1/1 [==============================] - 0s 36ms/step - loss: 0.0099 - mean_absolute_error: 0.0099 - mean_squared_error: 6.4347e-04 - val_loss: 0.2145 - val_mean_absolute_error: 0.2145 - val_mean_squared_error: 0.0674\n",
      "Epoch 77/100\n",
      "1/1 [==============================] - 0s 38ms/step - loss: 0.0101 - mean_absolute_error: 0.0101 - mean_squared_error: 6.2969e-04 - val_loss: 0.2141 - val_mean_absolute_error: 0.2141 - val_mean_squared_error: 0.0671\n",
      "Epoch 78/100\n",
      "1/1 [==============================] - 0s 50ms/step - loss: 0.0094 - mean_absolute_error: 0.0094 - mean_squared_error: 6.3810e-04 - val_loss: 0.2140 - val_mean_absolute_error: 0.2140 - val_mean_squared_error: 0.0670\n",
      "Epoch 79/100\n",
      "1/1 [==============================] - 0s 36ms/step - loss: 0.0092 - mean_absolute_error: 0.0092 - mean_squared_error: 6.2136e-04 - val_loss: 0.2143 - val_mean_absolute_error: 0.2143 - val_mean_squared_error: 0.0671\n",
      "Epoch 80/100\n",
      "1/1 [==============================] - 0s 42ms/step - loss: 0.0091 - mean_absolute_error: 0.0091 - mean_squared_error: 5.7581e-04 - val_loss: 0.2143 - val_mean_absolute_error: 0.2143 - val_mean_squared_error: 0.0671\n",
      "Epoch 81/100\n",
      "1/1 [==============================] - 0s 34ms/step - loss: 0.0090 - mean_absolute_error: 0.0090 - mean_squared_error: 5.4597e-04 - val_loss: 0.2138 - val_mean_absolute_error: 0.2138 - val_mean_squared_error: 0.0667\n",
      "Epoch 82/100\n",
      "1/1 [==============================] - 0s 46ms/step - loss: 0.0092 - mean_absolute_error: 0.0092 - mean_squared_error: 5.4994e-04 - val_loss: 0.2139 - val_mean_absolute_error: 0.2139 - val_mean_squared_error: 0.0668\n",
      "Epoch 83/100\n",
      "1/1 [==============================] - 0s 52ms/step - loss: 0.0091 - mean_absolute_error: 0.0091 - mean_squared_error: 5.2877e-04 - val_loss: 0.2142 - val_mean_absolute_error: 0.2142 - val_mean_squared_error: 0.0670\n",
      "Epoch 84/100\n",
      "1/1 [==============================] - 0s 50ms/step - loss: 0.0087 - mean_absolute_error: 0.0087 - mean_squared_error: 4.9753e-04 - val_loss: 0.2144 - val_mean_absolute_error: 0.2144 - val_mean_squared_error: 0.0671\n",
      "Epoch 85/100\n",
      "1/1 [==============================] - 0s 38ms/step - loss: 0.0088 - mean_absolute_error: 0.0088 - mean_squared_error: 4.8711e-04 - val_loss: 0.2142 - val_mean_absolute_error: 0.2142 - val_mean_squared_error: 0.0670\n",
      "Epoch 86/100\n",
      "1/1 [==============================] - 0s 49ms/step - loss: 0.0086 - mean_absolute_error: 0.0086 - mean_squared_error: 4.8604e-04 - val_loss: 0.2137 - val_mean_absolute_error: 0.2137 - val_mean_squared_error: 0.0667\n",
      "Epoch 87/100\n",
      "1/1 [==============================] - 0s 38ms/step - loss: 0.0087 - mean_absolute_error: 0.0087 - mean_squared_error: 4.9527e-04 - val_loss: 0.2136 - val_mean_absolute_error: 0.2136 - val_mean_squared_error: 0.0666\n",
      "Epoch 88/100\n",
      "1/1 [==============================] - 0s 36ms/step - loss: 0.0083 - mean_absolute_error: 0.0083 - mean_squared_error: 4.6656e-04 - val_loss: 0.2140 - val_mean_absolute_error: 0.2140 - val_mean_squared_error: 0.0668\n",
      "Epoch 89/100\n",
      "1/1 [==============================] - 0s 42ms/step - loss: 0.0086 - mean_absolute_error: 0.0086 - mean_squared_error: 4.2289e-04 - val_loss: 0.2140 - val_mean_absolute_error: 0.2140 - val_mean_squared_error: 0.0668\n",
      "Epoch 90/100\n",
      "1/1 [==============================] - 0s 39ms/step - loss: 0.0085 - mean_absolute_error: 0.0085 - mean_squared_error: 4.0520e-04 - val_loss: 0.2137 - val_mean_absolute_error: 0.2137 - val_mean_squared_error: 0.0666\n",
      "Epoch 91/100\n",
      "1/1 [==============================] - 0s 34ms/step - loss: 0.0080 - mean_absolute_error: 0.0080 - mean_squared_error: 4.0827e-04 - val_loss: 0.2133 - val_mean_absolute_error: 0.2133 - val_mean_squared_error: 0.0663\n",
      "Epoch 92/100\n",
      "1/1 [==============================] - 0s 32ms/step - loss: 0.0085 - mean_absolute_error: 0.0085 - mean_squared_error: 4.2999e-04 - val_loss: 0.2135 - val_mean_absolute_error: 0.2135 - val_mean_squared_error: 0.0664\n",
      "Epoch 93/100\n",
      "1/1 [==============================] - 0s 39ms/step - loss: 0.0077 - mean_absolute_error: 0.0077 - mean_squared_error: 3.9990e-04 - val_loss: 0.2140 - val_mean_absolute_error: 0.2140 - val_mean_squared_error: 0.0667\n",
      "Epoch 94/100\n",
      "1/1 [==============================] - 0s 34ms/step - loss: 0.0086 - mean_absolute_error: 0.0086 - mean_squared_error: 3.5455e-04 - val_loss: 0.2138 - val_mean_absolute_error: 0.2138 - val_mean_squared_error: 0.0665\n",
      "Epoch 95/100\n",
      "1/1 [==============================] - 0s 34ms/step - loss: 0.0080 - mean_absolute_error: 0.0080 - mean_squared_error: 3.4843e-04 - val_loss: 0.2129 - val_mean_absolute_error: 0.2129 - val_mean_squared_error: 0.0660\n",
      "Epoch 96/100\n",
      "1/1 [==============================] - 0s 34ms/step - loss: 0.0085 - mean_absolute_error: 0.0085 - mean_squared_error: 3.7168e-04 - val_loss: 0.2129 - val_mean_absolute_error: 0.2129 - val_mean_squared_error: 0.0659\n",
      "Epoch 97/100\n",
      "1/1 [==============================] - 0s 35ms/step - loss: 0.0084 - mean_absolute_error: 0.0084 - mean_squared_error: 3.5810e-04 - val_loss: 0.2134 - val_mean_absolute_error: 0.2134 - val_mean_squared_error: 0.0662\n",
      "Epoch 98/100\n",
      "1/1 [==============================] - 0s 47ms/step - loss: 0.0070 - mean_absolute_error: 0.0070 - mean_squared_error: 3.0846e-04 - val_loss: 0.2138 - val_mean_absolute_error: 0.2138 - val_mean_squared_error: 0.0664\n",
      "Epoch 99/100\n",
      "1/1 [==============================] - 0s 42ms/step - loss: 0.0078 - mean_absolute_error: 0.0078 - mean_squared_error: 2.9021e-04 - val_loss: 0.2139 - val_mean_absolute_error: 0.2139 - val_mean_squared_error: 0.0664\n",
      "Epoch 100/100\n",
      "1/1 [==============================] - 0s 43ms/step - loss: 0.0079 - mean_absolute_error: 0.0079 - mean_squared_error: 2.9139e-04 - val_loss: 0.2138 - val_mean_absolute_error: 0.2138 - val_mean_squared_error: 0.0664\n",
      "Saving model\n"
     ]
    }
   ],
   "source": [
    "def train_nn_model(nn_model,training_data,training_labels,n_epochs,validation_split=0.8,verbose=1):\n",
    "    \n",
    "    history = nn_model.fit(training_data,training_labels,epochs=n_epochs,\n",
    "                        validation_split=validation_split,verbose=verbose)\n",
    "    \n",
    "    print(\"Saving model\")\n",
    "    nn_model.save(\"./model3dense_n\"+str(ntimes)+\".h5\")\n",
    "    del nn_model\n",
    "\n",
    "train_nn_model(model,training_data,training_labels,100)\n",
    "model = tf.keras.models.load_model(\"./model3dense_n\"+str(ntimes)+\".h5\")"
   ]
  },
  {
   "cell_type": "markdown",
   "id": "b15a20b7",
   "metadata": {},
   "source": [
    "### Evaluating Model"
   ]
  },
  {
   "cell_type": "code",
   "execution_count": 24,
   "id": "880f10bf",
   "metadata": {},
   "outputs": [
    {
     "name": "stdout",
     "output_type": "stream",
     "text": [
      "4/4 [==============================] - 0s 2ms/step - loss: 0.4516 - mean_absolute_error: 0.4516 - mean_squared_error: 0.2892\n",
      "Testing set Mean Abs Error:  0.45\n"
     ]
    }
   ],
   "source": [
    "def evaluate_nn_model(nn_model,test_data,test_labels,verbose=1):\n",
    "\n",
    "    #evaluate the model generalizes by using the test data set\n",
    "    loss, mae, mse = model.evaluate(test_data, test_labels, verbose=verbose)\n",
    "    \n",
    "    return loss,mae,mse\n",
    "\n",
    "loss,mae,mse = evaluate_nn_model(model,test_data,test_labels)\n",
    "\n",
    "print(\"Testing set Mean Abs Error: {:5.2f}\".format(mae))"
   ]
  },
  {
   "cell_type": "code",
   "execution_count": 23,
   "id": "dd933b74",
   "metadata": {},
   "outputs": [
    {
     "name": "stdout",
     "output_type": "stream",
     "text": [
      "4/4 [==============================] - 0s 2ms/step\n"
     ]
    }
   ],
   "source": [
    "#predict values using data in the testing set\n",
    "#test_predictions = model.predict(testdata)\n",
    "#save predicted values\n",
    "#np.savetxt(\"H_NNestimated_n\"+str(ntimes)+\".csv\",test_predictions,delimiter=\",\")\n",
    "\n",
    "def predict_h_labels(nn_model,test_data):\n",
    "    \n",
    "    #predict values using data in the testing set\n",
    "    test_predictions = model.predict(test_data)\n",
    "    #save predicted values\n",
    "    np.savetxt(\"H_NNestimated_n\"+str(ntimes)+\".csv\",test_predictions,delimiter=\",\")\n",
    "    \n",
    "    \n",
    "predict_h_labels(model,test_data)"
   ]
  },
  {
   "cell_type": "markdown",
   "id": "53ead731",
   "metadata": {},
   "source": [
    "### Scrap"
   ]
  },
  {
   "cell_type": "code",
   "execution_count": 17,
   "id": "320d6a19",
   "metadata": {},
   "outputs": [
    {
     "data": {
      "text/plain": [
       "\"\\n#create the model for a fully-connected network\\nmodel = tf.keras.Sequential([\\n    tf.keras.layers.Dense(ntimes,activation='relu',input_shape=(ntimes,)),\\n    tf.keras.layers.Dense(ntimes-1,activation='relu'),\\n    tf.keras.layers.Dense(ntimes-2,activation='relu'),\\n    tf.keras.layers.Dense(1,activation='relu')\\n])\\n#add optimizer, a loss function and metrics#\\noptimizer = 'adam'\\n# optimizer = tf.keras.optimizers.RMSprop(0.001)\\nmodel.compile(optimizer=optimizer,\\n              loss='mean_absolute_error',\\n              metrics=['mean_absolute_error','mean_squared_error']\\n)\\nmodel.summary()\\n\""
      ]
     },
     "execution_count": 17,
     "metadata": {},
     "output_type": "execute_result"
    }
   ],
   "source": [
    "\n",
    "\"\"\"\n",
    "#training data\n",
    "traindata = np.empty((nsamples,ntimes))\n",
    "trainlabels = np.empty((nsamples,1))\n",
    "for i in range(0,nsamples):\n",
    "    hurst_exp = np.random.uniform(0.,1.)\n",
    "    fbm = FractionalBrownianMotion(hurst=hurst_exp,t=1,rng=None)\n",
    "    x = fbm.sample(ntimes)\n",
    "    #apply differencing and normalization on the data\n",
    "    dx = (x[1:]-x[0:-1])/(np.amax(x)-np.amin(x))\n",
    "    traindata[i,:] = dx\n",
    "    trainlabels[i,:] = hurst_exp\n",
    "\n",
    "#test data\n",
    "testdata = np.empty((nsamples,ntimes))\n",
    "testlabels = np.empty((nsamples,1))\n",
    "for i in range(0,nsamples):\n",
    "    hurst_exp = np.random.uniform(0.,1.)\n",
    "    fbm = FractionalBrownianMotion(hurst=hurst_exp,t=1,rng=None)\n",
    "    x = fbm.sample(ntimes)\n",
    "    dx = (x[1:]-x[0:-1])/(np.amax(x)-np.amin(x))\n",
    "    testdata[i,:] = dx\n",
    "    testlabels[i,:] = hurst_exp\n",
    "\"\"\"\n",
    "\n",
    "\"\"\"\n",
    "#create the model for a fully-connected network\n",
    "model = tf.keras.Sequential([\n",
    "    tf.keras.layers.Dense(ntimes,activation='relu',input_shape=(ntimes,)),\n",
    "    tf.keras.layers.Dense(ntimes-1,activation='relu'),\n",
    "    tf.keras.layers.Dense(ntimes-2,activation='relu'),\n",
    "    tf.keras.layers.Dense(1,activation='relu')\n",
    "])\n",
    "#add optimizer, a loss function and metrics#\n",
    "optimizer = 'adam'\n",
    "# optimizer = tf.keras.optimizers.RMSprop(0.001)\n",
    "model.compile(optimizer=optimizer,\n",
    "              loss='mean_absolute_error',\n",
    "              metrics=['mean_absolute_error','mean_squared_error']\n",
    ")\n",
    "model.summary()\n",
    "\"\"\""
   ]
  },
  {
   "cell_type": "code",
   "execution_count": null,
   "id": "82f55eb2",
   "metadata": {},
   "outputs": [],
   "source": []
  }
 ],
 "metadata": {
  "kernelspec": {
   "display_name": "Python 3",
   "language": "python",
   "name": "python3"
  },
  "language_info": {
   "codemirror_mode": {
    "name": "ipython",
    "version": 3
   },
   "file_extension": ".py",
   "mimetype": "text/x-python",
   "name": "python",
   "nbconvert_exporter": "python",
   "pygments_lexer": "ipython3",
   "version": "3.8.8"
  }
 },
 "nbformat": 4,
 "nbformat_minor": 5
}
