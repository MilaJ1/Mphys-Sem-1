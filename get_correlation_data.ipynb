{
 "cells": [
  {
   "cell_type": "code",
   "execution_count": 1,
   "metadata": {},
   "outputs": [],
   "source": [
    "import pandas as pd\n",
    "import numpy as np\n",
    "import matplotlib.pyplot as plt\n",
    "from mpl_toolkits.mplot3d import Axes3D\n",
    "import json\n",
    "import os"
   ]
  },
  {
   "cell_type": "code",
   "execution_count": 2,
   "metadata": {},
   "outputs": [],
   "source": [
    "def filter_data_new(data_in, max_step):\n",
    "    \"\"\"\n",
    "    Only keeps data for tracks that are long enough for hurst exponent estimation at a given downsampling step size.\n",
    "    Args: \n",
    "        data_in: pandas dataframe, original data\n",
    "        max_step_size: int, maximum downsampling step size\n",
    "        window: int, size of rolling window for hurst component estimation\n",
    "    Returns:\n",
    "        filtered_data: pandas dataframe\n",
    "    \"\"\"\n",
    "    tracks_to_keep = data_in.TrackID.value_counts().loc[lambda x: x//max_step >2].reset_index()['index']\n",
    "    filtered_data = data_in[data_in['TrackID'].isin(tracks_to_keep)]\n",
    "    return filtered_data\n",
    "\n",
    "def downsample(data_input, down_int, start_index=0):\n",
    "    \n",
    "    data_out = data_input.iloc[start_index::down_int]\n",
    "    return data_out"
   ]
  },
  {
   "cell_type": "code",
   "execution_count": 3,
   "metadata": {},
   "outputs": [],
   "source": [
    "def get_mod(v):\n",
    "    \n",
    "    return np.sqrt(v.dot(v))\n",
    "\n",
    "def get_step_vector(index,data_x,data_y,data_z):\n",
    "    \n",
    "    dx = data_x[index]-data_x[index-1]\n",
    "    dy = data_y[index]-data_y[index-1]\n",
    "    dz = data_z[index]-data_z[index-1]\n",
    "    \n",
    "    step_vector = np.array([dx,dy,dz])   \n",
    "\n",
    "    return step_vector  \n",
    "\n",
    "def get_ct(x_data,y_data,z_data):\n",
    "    \"\"\"\n",
    "    iterates over a track (may be downsampled) and creates 1d array of cos(theta) values\n",
    "    between each step\n",
    "    \"\"\"\n",
    "    length=len(x_data)\n",
    "    step_vectors = np.empty((length-1,3))\n",
    "    cos_theta_temp = np.empty(length-2)\n",
    "    for i in np.arange(length):\n",
    "        if i>=1:\n",
    "            step_vectors[i-1] = get_step_vector(i,x_data,y_data,z_data)\n",
    "        if i>=2:\n",
    "            v0 = step_vectors[i-2]\n",
    "            v1 = step_vectors[i-1]\n",
    "            cos_theta_temp[i-2] = np.dot(v0,v1)/(get_mod(v1)*get_mod(v0))\n",
    "    return cos_theta_temp\n",
    "    \n",
    "def get_ct_ds_runs(track_data, ds_rate):\n",
    "    \"\"\"\n",
    "    For a given track, applies downsampling and collects cos(theta) data for each \n",
    "    downsampling run (i.e. each of the 5 new tracks when downsampling an original track\n",
    "    by 5) and appends the average of the cos theta track data to a 1d array\n",
    "    \"\"\"\n",
    "    \n",
    "    cos_theta_avgs_ds = np.array([])\n",
    "    \n",
    "    for i in np.arange(ds_rate):\n",
    "        \n",
    "        ds_track_data = downsample(track_data, ds_rate, start_index=i)\n",
    "        \n",
    "        x = ds_track_data['Position X'].values\n",
    "        y = ds_track_data['Position Y'].values\n",
    "        z = ds_track_data['Position Z'].values\n",
    "\n",
    "        cos_theta_track = get_ct(x,y,z)\n",
    "        \n",
    "        #change to cos_theta_track, no averaging, to get batch2, resembling beta function\n",
    "        avg_cos_theta_track = np.mean(cos_theta_track)\n",
    "        \n",
    "        cos_theta_avgs_ds = np.append(cos_theta_avgs_ds,avg_cos_theta_track)\n",
    "    \n",
    "    #change to np.mean(cos_theta_avgs_ds) for batch3 ( averaging across different downsamples)\n",
    "    return cos_theta_avgs_ds\n",
    "    \n",
    "def get_ct_tracks(data_in,ds_rate,n_tracks=10000):\n",
    "    \n",
    "    cos_theta_tracks = np.array([])\n",
    "    \n",
    "    track_id_values = np.unique(data_in['TrackID'])\n",
    "    \n",
    "    for tid in track_id_values[:n_tracks]:\n",
    "\n",
    "        track_data = data_in[data_in['TrackID']==tid]\n",
    "        \n",
    "        cos_theta_avg_ds = get_ct_ds_runs(track_data,ds_rate)\n",
    "        \n",
    "        cos_theta_tracks = np.append(cos_theta_tracks,cos_theta_avg_ds)\n",
    "        \n",
    "    return cos_theta_tracks\n",
    "      \n",
    "def get_cos_theta_dict(filtered_data, step_sizes,n_tracks=10000):\n",
    "    \"\"\"\n",
    "    \"\"\"\n",
    "    cos_theta_dict = {}\n",
    "    \n",
    "    for i, s in enumerate(step_sizes):\n",
    "        #print('step_size = {}'.format(s))\n",
    "        cos_theta_step = get_ct_tracks(filtered_data, s,n_tracks)\n",
    "        cos_theta_dict[\"{}\".format(s)] = cos_theta_step.tolist()\n",
    "        \n",
    "    return cos_theta_dict\n",
    "\n",
    "def save_cos_theta_data(cos_theta_data, file_name, step_sizes, batch_number, data_type):#, window, step_sizes, restriction):\n",
    "    \"\"\"\n",
    "    data_type can be 'experimental' or 'simulated'\n",
    "    \"\"\"\n",
    "    if data_type=='experimental':\n",
    "        path = 'cos_theta_dict_data/'\n",
    "        name_start = 'cos_theta_dict_'\n",
    "    elif data_type=='simulated':\n",
    "        path = 'sim_pipe_cos_theta_data/'\n",
    "        name_start = 'sim_cos_theta_dict_'\n",
    "    else:\n",
    "        print(\"data_type must be either 'experimental' or 'simulated'.\")\n",
    "    try:\n",
    "        with open(path+name_start+file_name+'_s{}'.format(max(step_sizes))+'_b{}'.format(batch_number), 'w') as file:\n",
    "            file.write(json.dumps(cos_theta_data))\n",
    "    except FileNotFoundError:\n",
    "        os.makedirs(path)\n",
    "        with open(path+name_start+file_name+'_s{}'.format(max(step_sizes))+'_b{}'.format(batch_number), 'w') as file:\n",
    "            file.write(json.dumps(cos_theta_data))"
   ]
  },
  {
   "cell_type": "code",
   "execution_count": 4,
   "metadata": {},
   "outputs": [],
   "source": [
    "filenames = np.array(['Control_frame001-200',\n",
    "                      'Control_frame200-400',\n",
    "                      'Control_frame400-600',\n",
    "                      'Control_frame600-800',\n",
    "                      'Control_frame800-1000',\n",
    "                      'Control_frame1000-1200',\n",
    "                      'LanB1_frame001-200',\n",
    "                      'LanB1_frame200-400',\n",
    "                      'LanB1_frame400-600',\n",
    "                      'LanB1_frame600-800',\n",
    "                      'LanB1_frame800-1000',\n",
    "                      'LanB1_frame1000-1200',\n",
    "                      'defLanB1_300817_frame200-400',\n",
    "                      'defLanB1_300817_frame400-600'])\n",
    "\n",
    "filenames_sim_stoch_hna00 = np.array(['stoch_h_hna0.00_r0.50_l200_mc250_cylinder_data',\n",
    "                                      'stoch_h_hna0.00_r1.00_l200_mc250_cylinder_data',\n",
    "                                      'stoch_h_hna0.00_r1.50_l200_mc250_cylinder_data',\n",
    "                                      'stoch_h_hna0.00_r2.00_l200_mc250_cylinder_data',\n",
    "                                      'stoch_h_hna0.00_r2.50_l200_mc250_cylinder_data',\n",
    "                                      'stoch_h_hna0.00_r3.00_l200_mc250_cylinder_data',\n",
    "                                      'stoch_h_hna0.00_r3.50_l200_mc250_cylinder_data',\n",
    "                                      'stoch_h_hna0.00_r4.00_l200_mc250_cylinder_data',\n",
    "                                      'stoch_h_hna0.00_r4.50_l200_mc250_cylinder_data',\n",
    "                                      'stoch_h_hna0.00_r5.00_l200_mc250_cylinder_data',\n",
    "                                      'stoch_h_hna0.00_r5.50_l200_mc250_cylinder_data',\n",
    "                                      'stoch_h_hna0.00_r6.00_l200_mc250_cylinder_data',\n",
    "                                      'stoch_h_hna0.00_r6.50_l200_mc250_cylinder_data',\n",
    "                                      'stoch_h_hna0.00_r7.00_l200_mc250_cylinder_data',\n",
    "                                      'stoch_h_hna0.00_r7.50_l200_mc250_cylinder_data',\n",
    "                                      'stoch_h_hna0.00_r8.50_l200_mc250_cylinder_data',\n",
    "                                      'stoch_h_hna0.00_r9.00_l200_mc250_cylinder_data',\n",
    "                                      'stoch_h_hna0.00_r9.50_l200_mc250_cylinder_data'])\n",
    "\n",
    "filenames_sim_stoch_hna05 = np.array(['stoch_h_hna0.50_r0.50_l200_mc250_cylinder_data',\n",
    "                                      'stoch_h_hna0.50_r1.00_l200_mc250_cylinder_data',\n",
    "                                      'stoch_h_hna0.50_r1.50_l200_mc250_cylinder_data',\n",
    "                                      'stoch_h_hna0.50_r2.00_l200_mc250_cylinder_data',\n",
    "                                      'stoch_h_hna0.50_r2.50_l200_mc250_cylinder_data',\n",
    "                                      'stoch_h_hna0.50_r3.00_l200_mc250_cylinder_data',\n",
    "                                      'stoch_h_hna0.50_r3.50_l200_mc250_cylinder_data',\n",
    "                                      'stoch_h_hna0.50_r4.00_l200_mc250_cylinder_data',\n",
    "                                      'stoch_h_hna0.50_r4.50_l200_mc250_cylinder_data',\n",
    "                                      'stoch_h_hna0.50_r5.00_l200_mc250_cylinder_data',\n",
    "                                      'stoch_h_hna0.50_r5.50_l200_mc250_cylinder_data',\n",
    "                                      'stoch_h_hna0.50_r6.00_l200_mc250_cylinder_data',\n",
    "                                      'stoch_h_hna0.50_r6.50_l200_mc250_cylinder_data',\n",
    "                                      'stoch_h_hna0.50_r7.00_l200_mc250_cylinder_data',\n",
    "                                      'stoch_h_hna0.50_r7.50_l200_mc250_cylinder_data',\n",
    "                                      'stoch_h_hna0.50_r8.00_l200_mc250_cylinder_data',\n",
    "                                      'stoch_h_hna0.50_r8.50_l200_mc250_cylinder_data',\n",
    "                                      'stoch_h_hna0.50_r9.00_l200_mc250_cylinder_data',\n",
    "                                      'stoch_h_hna0.50_r9.50_l200_mc250_cylinder_data'])\n"
   ]
  },
  {
   "cell_type": "code",
   "execution_count": 5,
   "metadata": {
    "scrolled": false
   },
   "outputs": [
    {
     "name": "stdout",
     "output_type": "stream",
     "text": [
      "opened file stoch_h_hna0.00_r0.50_l200_mc250_cylinder_data\n",
      "opened file stoch_h_hna0.00_r1.00_l200_mc250_cylinder_data\n",
      "opened file stoch_h_hna0.00_r1.50_l200_mc250_cylinder_data\n",
      "opened file stoch_h_hna0.00_r2.00_l200_mc250_cylinder_data\n",
      "opened file stoch_h_hna0.00_r2.50_l200_mc250_cylinder_data\n",
      "opened file stoch_h_hna0.00_r3.00_l200_mc250_cylinder_data\n",
      "opened file stoch_h_hna0.00_r3.50_l200_mc250_cylinder_data\n",
      "opened file stoch_h_hna0.00_r4.00_l200_mc250_cylinder_data\n",
      "opened file stoch_h_hna0.00_r4.50_l200_mc250_cylinder_data\n",
      "opened file stoch_h_hna0.00_r5.00_l200_mc250_cylinder_data\n",
      "opened file stoch_h_hna0.00_r5.50_l200_mc250_cylinder_data\n",
      "opened file stoch_h_hna0.00_r6.00_l200_mc250_cylinder_data\n",
      "opened file stoch_h_hna0.00_r6.50_l200_mc250_cylinder_data\n",
      "opened file stoch_h_hna0.00_r7.00_l200_mc250_cylinder_data\n",
      "opened file stoch_h_hna0.00_r7.50_l200_mc250_cylinder_data\n",
      "opened file stoch_h_hna0.00_r8.50_l200_mc250_cylinder_data\n",
      "opened file stoch_h_hna0.00_r9.00_l200_mc250_cylinder_data\n",
      "opened file stoch_h_hna0.00_r9.50_l200_mc250_cylinder_data\n"
     ]
    }
   ],
   "source": [
    "# working with simulated data\n",
    "step_sizes = [1,2,3,4,5,6,7,8,9,10,11,12,13,14,15]\n",
    "n_tracks_restricted = 250\n",
    "\n",
    "# iterate over data files and save cos theta dictionary \n",
    "for i, file in enumerate(filenames_sim_stoch_hna00):\n",
    "    print('opened file {}'.format(file))\n",
    "    data = pd.read_csv('sim_haemocyte_pipe_data/' + file + '.csv')\n",
    "    filtered_data = filter_data_new(data, max(step_sizes))\n",
    "    cos_theta_dict = get_cos_theta_dict(filtered_data, step_sizes, n_tracks_restricted)\n",
    "    #print(cos_theta_dict)\n",
    "    save_cos_theta_data(cos_theta_dict, file, step_sizes, 1, data_type='simulated')"
   ]
  },
  {
   "cell_type": "markdown",
   "metadata": {},
   "source": [
    "### Checking code against random walk and directed walk"
   ]
  },
  {
   "cell_type": "code",
   "execution_count": null,
   "metadata": {},
   "outputs": [],
   "source": [
    "import gen_walks as gw"
   ]
  },
  {
   "cell_type": "markdown",
   "metadata": {},
   "source": [
    "##### Check for directed walk being 1"
   ]
  },
  {
   "cell_type": "code",
   "execution_count": null,
   "metadata": {},
   "outputs": [],
   "source": [
    "dwalk_pos = gw.gen_directed_walk(100)\n",
    "cos_theta_directed = get_ct(dwalk_pos[:,0],dwalk_pos[:,1],dwalk_pos[:,2])\n",
    "print(cos_theta_directed)"
   ]
  },
  {
   "cell_type": "markdown",
   "metadata": {},
   "source": [
    "##### Check for random walk being 0"
   ]
  },
  {
   "cell_type": "code",
   "execution_count": null,
   "metadata": {},
   "outputs": [],
   "source": [
    "samples = 10000\n",
    "cos_theta_rwalk_data = np.empty(samples)\n",
    "for i in np.arange(samples):\n",
    "    \n",
    "    rwalk = gw.random_walk_3d(1,100)\n",
    "    cos_theta_rwalk_data[i] = np.mean(get_ct(rwalk[:,0],rwalk[:,1],rwalk[:,2]))\n",
    "    \n",
    "print(np.mean(cos_theta_rwalk_data))"
   ]
  },
  {
   "cell_type": "code",
   "execution_count": null,
   "metadata": {},
   "outputs": [],
   "source": [
    "def get_ct_rwalk_pipe_data(mfp,samples, radius):\n",
    "     \n",
    "    ct_rwalk_pipe = np.empty(samples)\n",
    "    \n",
    "    for i in np.arange(samples):\n",
    "    \n",
    "        rwalk = gw.rwalk_3d_pipe(mfp,100,radius)\n",
    "        ct_rwalk_pipe[i] = np.mean(get_ct(rwalk[:,0],rwalk[:,1],rwalk[:,2]))\n",
    "        \n",
    "    return np.mean(ct_rwalk_pipe),np.std(ct_rwalk_pipe)   \n",
    "\n",
    "def get_ctrw_vs_r_data(mfp,samples_per_radius, radii):\n",
    "    \n",
    "    ct_r_data = np.empty((len(radii),2))\n",
    "    \n",
    "    for i,r in enumerate(radii):\n",
    "        \n",
    "        ct_r_data[i] = get_ct_rwalk_pipe_data(mfp,samples_per_radius,r)\n",
    "        \n",
    "    return ct_r_data\n",
    "                "
   ]
  },
  {
   "cell_type": "code",
   "execution_count": null,
   "metadata": {},
   "outputs": [],
   "source": [
    "get_ct_rwalk_pipe_data(0.01,100,1)"
   ]
  },
  {
   "cell_type": "code",
   "execution_count": null,
   "metadata": {},
   "outputs": [],
   "source": [
    "radii = np.linspace(1,10,20)\n",
    "print(radii)"
   ]
  },
  {
   "cell_type": "code",
   "execution_count": null,
   "metadata": {},
   "outputs": [],
   "source": [
    "ct_vs_r_data = get_ctrw_vs_r_data(3,100,radii)"
   ]
  },
  {
   "cell_type": "code",
   "execution_count": null,
   "metadata": {},
   "outputs": [],
   "source": [
    "fig,ax = plt.subplots(figsize=(8,6))\n",
    "plt.errorbar(x=radii,y=ct_vs_r_data[:,0],yerr=ct_vs_r_data[:,1]/np.sqrt(100))"
   ]
  },
  {
   "cell_type": "markdown",
   "metadata": {},
   "source": [
    "## SCRAP"
   ]
  },
  {
   "cell_type": "code",
   "execution_count": null,
   "metadata": {},
   "outputs": [],
   "source": [
    "\n",
    "    #if restriction<len(tracks_to_keep):\n",
    "     #   filtered_data = data_in[data_in['TrackID'].isin(tracks_to_keep[:restriction])]\n",
    "    #else:\n",
    "     #   filtered_data = data_in[data_in['TrackID'].isin(tracks_to_keep)]"
   ]
  },
  {
   "cell_type": "markdown",
   "metadata": {},
   "source": [
    "def get_cos_theta(data_in,restriction):\n",
    "    \n",
    "    track_id_values = np.unique(data_in['TrackID'])\n",
    "    cos_theta_avg = np.array([])\n",
    "    \n",
    "    print('------------')\n",
    "    \n",
    "    for tid in track_id_values[:restriction]:\n",
    "        track_data = data_in[data_in['TrackID']==tid]\n",
    "        x = track_data['Position X'].values\n",
    "        y = track_data['Position Y'].values\n",
    "        z = track_data['Position Z'].values\n",
    "        \n",
    "        cos_theta_temp = get_ct(x,y,z)\n",
    "\n",
    "        cos_theta_avg = np.append(cos_theta_avg,np.mean(cos_theta_temp))\n",
    "        \n",
    "    return cos_theta_avg\n",
    "\n",
    "def dsample_get_cos_theta(data_in, ds_rate,restriction):\n",
    "    \"\"\"\n",
    "    Args:\n",
    "        data_in: pandas dataframe\n",
    "        ds_rate: int, downsampling step size\n",
    "    Returns:\n",
    "        h_arr: 2D np array\n",
    "    \"\"\"\n",
    "    #cos_theta_avgs = np.array([])\n",
    "    for i in np.arange(ds_rate):\n",
    "        \n",
    "        downsampled_data = downsample(data_in, ds_rate, start_index=i)\n",
    "\n",
    "        cos_theta_avgs_temp = get_cos_theta(downsampled_data,restriction)\n",
    "        print(len(cos_theta_avgs_temp))\n",
    "            \n",
    "        if i == 0:\n",
    "            cos_theta_avgs = cos_theta_avgs_temp\n",
    "        else:\n",
    "            \n",
    "            if len(cos_theta_avgs_temp)>len(cos_theta_avgs):\n",
    "                cos_theta_avgs_temp=cos_theta_avgs_temp[:-1]\n",
    "            \n",
    "            cos_theta_avgs = np.append(cos_theta_avgs,cos_theta_avgs_temp)\n",
    "        \n",
    "    return cos_theta_avgs\n"
   ]
  }
 ],
 "metadata": {
  "kernelspec": {
   "display_name": "Python 3",
   "language": "python",
   "name": "python3"
  },
  "language_info": {
   "codemirror_mode": {
    "name": "ipython",
    "version": 3
   },
   "file_extension": ".py",
   "mimetype": "text/x-python",
   "name": "python",
   "nbconvert_exporter": "python",
   "pygments_lexer": "ipython3",
   "version": "3.7.7"
  }
 },
 "nbformat": 4,
 "nbformat_minor": 5
}
